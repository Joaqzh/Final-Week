{
    "cells": [
        {
            "metadata": {
                "collapsed": true
            },
            "cell_type": "markdown",
            "source": "<h1>My Jupyter Notebook on IBM Watson Studio</h1>"
        },
        {
            "metadata": {},
            "cell_type": "markdown",
            "source": "<b>Joaquin Delgado Lorino</b>\n<br>\nStudent\n"
        },
        {
            "metadata": {},
            "cell_type": "markdown",
            "source": "<i>I am interested in data science because I am a curious person.</i>"
        },
        {
            "metadata": {},
            "cell_type": "markdown",
            "source": "<h3>My code is going to te an division</h3>"
        },
        {
            "metadata": {},
            "cell_type": "code",
            "source": "8/2",
            "execution_count": 2,
            "outputs": [
                {
                    "output_type": "execute_result",
                    "execution_count": 2,
                    "data": {
                        "text/plain": "4.0"
                    },
                    "metadata": {}
                }
            ]
        },
        {
            "metadata": {},
            "cell_type": "markdown",
            "source": "<table>\n  <tr>\n    <th>Type of Food</th>\n    <th>List</th>\n  </tr>\n  <tr>\n    <td>Fruit</td>\n    <td>\n        <ul>\n            <li>Banana</li>\n            <li>Apple</li>\n            <li>Orange</li>\n            <li>Watermelon</li>\n        </ul>\n    </td>\n  </tr>\n  <tr>\n    <td>Vegetables</td>\n    <td>\n        <ol>\n            <li>Tomato</li>\n            <li>Carrot</li>\n            <li>Beans</li>\n        </ol>\n    </td>\n  </tr>\n</table>\n"
        }
    ],
    "metadata": {
        "kernelspec": {
            "name": "python3",
            "display_name": "Python 3.10",
            "language": "python"
        },
        "language_info": {
            "name": "python",
            "version": "3.10.6",
            "mimetype": "text/x-python",
            "codemirror_mode": {
                "name": "ipython",
                "version": 3
            },
            "pygments_lexer": "ipython3",
            "nbconvert_exporter": "python",
            "file_extension": ".py"
        }
    },
    "nbformat": 4,
    "nbformat_minor": 1
}